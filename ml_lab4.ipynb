{
  "nbformat": 4,
  "nbformat_minor": 0,
  "metadata": {
    "colab": {
      "provenance": [],
      "authorship_tag": "ABX9TyNY80TFTavwqZ60LTKhL4BX",
      "include_colab_link": true
    },
    "kernelspec": {
      "name": "python3",
      "display_name": "Python 3"
    },
    "language_info": {
      "name": "python"
    }
  },
  "cells": [
    {
      "cell_type": "markdown",
      "metadata": {
        "id": "view-in-github",
        "colab_type": "text"
      },
      "source": [
        "<a href=\"https://colab.research.google.com/github/jay-madane/ML_clg_labs/blob/main/ml_lab4.ipynb\" target=\"_parent\"><img src=\"https://colab.research.google.com/assets/colab-badge.svg\" alt=\"Open In Colab\"/></a>"
      ]
    },
    {
      "cell_type": "markdown",
      "source": [
        "#Machine Learning 4\n",
        "##Comparison Analysis of all Supervised Learning Algorithms\n",
        "\n",
        "####Name: Jay Kiran Madane\n",
        "####PRN: RBT21CB036\n",
        "####Title: Identifying the Best Machine Learning Model for finding out any structure in Ionosphere.\n",
        "####Aim: To train and evaluate a variety of machine learning models on a given dataset, in order to identify the best model for a given task or optimize the hyperparameters of a model.\n",
        "####Dataset: Ionosphere\n"
      ],
      "metadata": {
        "id": "T24ZedaHl36h"
      }
    },
    {
      "cell_type": "markdown",
      "source": [
        "#### Code:"
      ],
      "metadata": {
        "id": "gXF_xbR9xdDa"
      }
    },
    {
      "cell_type": "code",
      "execution_count": null,
      "metadata": {
        "id": "SRTtNcrIlck1"
      },
      "outputs": [],
      "source": [
        "# Import necessary libraries\n",
        "import numpy as np\n",
        "import pandas as pd\n",
        "import matplotlib.pyplot as plt\n",
        "import seaborn as sns\n",
        "from sklearn.datasets import fetch_openml\n",
        "from sklearn.model_selection import train_test_split\n",
        "from sklearn.preprocessing import StandardScaler\n",
        "from sklearn.svm import SVC\n",
        "from sklearn.naive_bayes import GaussianNB\n",
        "from sklearn.neighbors import KNeighborsClassifier\n",
        "from sklearn.tree import DecisionTreeClassifier\n",
        "from sklearn.linear_model import LogisticRegression\n",
        "from sklearn.neural_network import MLPClassifier\n",
        "from sklearn.metrics import accuracy_score, classification_report, confusion_matrix"
      ]
    },
    {
      "cell_type": "markdown",
      "source": [
        "#### Loading the dataset"
      ],
      "metadata": {
        "id": "-iry5xHZxRvc"
      }
    },
    {
      "cell_type": "code",
      "source": [
        "ionosphere = fetch_openml(name='ionosphere', version=1, as_frame=True)\n",
        "df = ionosphere.frame"
      ],
      "metadata": {
        "colab": {
          "base_uri": "https://localhost:8080/"
        },
        "id": "jTYx47twwJqP",
        "outputId": "f65fa505-7c89-44dd-bb32-f3963e04859e"
      },
      "execution_count": null,
      "outputs": [
        {
          "output_type": "stream",
          "name": "stderr",
          "text": [
            "/usr/local/lib/python3.10/dist-packages/sklearn/datasets/_openml.py:968: FutureWarning: The default value of `parser` will change from `'liac-arff'` to `'auto'` in 1.4. You can set `parser='auto'` to silence this warning. Therefore, an `ImportError` will be raised from 1.4 if the dataset is dense and pandas is not installed. Note that the pandas parser may return different data types. See the Notes Section in fetch_openml's API doc for details.\n",
            "  warn(\n"
          ]
        }
      ]
    },
    {
      "cell_type": "markdown",
      "source": [
        "#### Exploratory Data Analysis"
      ],
      "metadata": {
        "id": "9LOTMFXsxmUI"
      }
    },
    {
      "cell_type": "code",
      "source": [
        "# Display basic information about the dataset\n",
        "print(df.info())"
      ],
      "metadata": {
        "colab": {
          "base_uri": "https://localhost:8080/"
        },
        "id": "jhNlLii6wW7V",
        "outputId": "271a77e0-dd9a-4293-af0d-2497d2666d65"
      },
      "execution_count": null,
      "outputs": [
        {
          "output_type": "stream",
          "name": "stdout",
          "text": [
            "<class 'pandas.core.frame.DataFrame'>\n",
            "RangeIndex: 351 entries, 0 to 350\n",
            "Data columns (total 35 columns):\n",
            " #   Column  Non-Null Count  Dtype   \n",
            "---  ------  --------------  -----   \n",
            " 0   a01     351 non-null    float64 \n",
            " 1   a02     351 non-null    float64 \n",
            " 2   a03     351 non-null    float64 \n",
            " 3   a04     351 non-null    float64 \n",
            " 4   a05     351 non-null    float64 \n",
            " 5   a06     351 non-null    float64 \n",
            " 6   a07     351 non-null    float64 \n",
            " 7   a08     351 non-null    float64 \n",
            " 8   a09     351 non-null    float64 \n",
            " 9   a10     351 non-null    float64 \n",
            " 10  a11     351 non-null    float64 \n",
            " 11  a12     351 non-null    float64 \n",
            " 12  a13     351 non-null    float64 \n",
            " 13  a14     351 non-null    float64 \n",
            " 14  a15     351 non-null    float64 \n",
            " 15  a16     351 non-null    float64 \n",
            " 16  a17     351 non-null    float64 \n",
            " 17  a18     351 non-null    float64 \n",
            " 18  a19     351 non-null    float64 \n",
            " 19  a20     351 non-null    float64 \n",
            " 20  a21     351 non-null    float64 \n",
            " 21  a22     351 non-null    float64 \n",
            " 22  a23     351 non-null    float64 \n",
            " 23  a24     351 non-null    float64 \n",
            " 24  a25     351 non-null    float64 \n",
            " 25  a26     351 non-null    float64 \n",
            " 26  a27     351 non-null    float64 \n",
            " 27  a28     351 non-null    float64 \n",
            " 28  a29     351 non-null    float64 \n",
            " 29  a30     351 non-null    float64 \n",
            " 30  a31     351 non-null    float64 \n",
            " 31  a32     351 non-null    float64 \n",
            " 32  a33     351 non-null    float64 \n",
            " 33  a34     351 non-null    float64 \n",
            " 34  class   351 non-null    category\n",
            "dtypes: category(1), float64(34)\n",
            "memory usage: 93.8 KB\n",
            "None\n"
          ]
        }
      ]
    },
    {
      "cell_type": "code",
      "source": [
        "# Display the first few rows of the dataset\n",
        "print(df.head())"
      ],
      "metadata": {
        "colab": {
          "base_uri": "https://localhost:8080/"
        },
        "id": "W2MZkEvnwYRA",
        "outputId": "b1565f61-c823-4f2b-da03-f12b764eb817"
      },
      "execution_count": null,
      "outputs": [
        {
          "output_type": "stream",
          "name": "stdout",
          "text": [
            "   a01  a02      a03      a04      a05      a06      a07      a08      a09  \\\n",
            "0  1.0  0.0  0.99539 -0.05889  0.85243  0.02306  0.83398 -0.37708  1.00000   \n",
            "1  1.0  0.0  1.00000 -0.18829  0.93035 -0.36156 -0.10868 -0.93597  1.00000   \n",
            "2  1.0  0.0  1.00000 -0.03365  1.00000  0.00485  1.00000 -0.12062  0.88965   \n",
            "3  1.0  0.0  1.00000 -0.45161  1.00000  1.00000  0.71216 -1.00000  0.00000   \n",
            "4  1.0  0.0  1.00000 -0.02401  0.94140  0.06531  0.92106 -0.23255  0.77152   \n",
            "\n",
            "       a10  ...      a26      a27      a28      a29      a30      a31  \\\n",
            "0  0.03760  ... -0.51171  0.41078 -0.46168  0.21266 -0.34090  0.42267   \n",
            "1 -0.04549  ... -0.26569 -0.20468 -0.18401 -0.19040 -0.11593 -0.16626   \n",
            "2  0.01198  ... -0.40220  0.58984 -0.22145  0.43100 -0.17365  0.60436   \n",
            "3  0.00000  ...  0.90695  0.51613  1.00000  1.00000 -0.20099  0.25682   \n",
            "4 -0.16399  ... -0.65158  0.13290 -0.53206  0.02431 -0.62197 -0.05707   \n",
            "\n",
            "       a32      a33      a34  class  \n",
            "0 -0.54487  0.18641 -0.45300      g  \n",
            "1 -0.06288 -0.13738 -0.02447      b  \n",
            "2 -0.24180  0.56045 -0.38238      g  \n",
            "3  1.00000 -0.32382  1.00000      b  \n",
            "4 -0.59573 -0.04608 -0.65697      g  \n",
            "\n",
            "[5 rows x 35 columns]\n"
          ]
        }
      ]
    },
    {
      "cell_type": "code",
      "source": [
        "# Check for missing values\n",
        "print(\"Missing values:\", df.isnull().sum().sum())"
      ],
      "metadata": {
        "colab": {
          "base_uri": "https://localhost:8080/"
        },
        "id": "6HQbqd3-wZ0-",
        "outputId": "e9ffa235-260a-4ee0-afc6-82c42511ff74"
      },
      "execution_count": null,
      "outputs": [
        {
          "output_type": "stream",
          "name": "stdout",
          "text": [
            "Missing values: 0\n"
          ]
        }
      ]
    },
    {
      "cell_type": "markdown",
      "source": [
        "#### Visualization of the Dataset"
      ],
      "metadata": {
        "id": "1N5gz-zpxrOn"
      }
    },
    {
      "cell_type": "code",
      "source": [
        "# Visualize the distribution of classes\n",
        "sns.countplot(x='class', data=df)\n",
        "plt.title('Class Distribution')\n",
        "plt.show()"
      ],
      "metadata": {
        "colab": {
          "base_uri": "https://localhost:8080/",
          "height": 472
        },
        "id": "yeKK1paQwbRp",
        "outputId": "c6ca30cb-0975-4427-9749-01c45ff02682"
      },
      "execution_count": null,
      "outputs": [
        {
          "output_type": "display_data",
          "data": {
            "text/plain": [
              "<Figure size 640x480 with 1 Axes>"
            ],
            "image/png": "[encoded data removed]"
          },
          "metadata": {}
        }
      ]
    },
    {
      "cell_type": "markdown",
      "source": [
        "#### Splitting Dataset into training and testing sets"
      ],
      "metadata": {
        "id": "466BFhNfxw-E"
      }
    },
    {
      "cell_type": "code",
      "source": [
        "# Separate features and target variable\n",
        "X = df.drop('class', axis=1)\n",
        "y = df['class']"
      ],
      "metadata": {
        "id": "4LWrjy2gyyh9"
      },
      "execution_count": null,
      "outputs": []
    },
    {
      "cell_type": "code",
      "source": [
        "X_train, X_test, y_train, y_test = train_test_split(X, y, test_size=0.2, random_state=42)"
      ],
      "metadata": {
        "id": "-dd5jJD8wgTb"
      },
      "execution_count": null,
      "outputs": []
    },
    {
      "cell_type": "markdown",
      "source": [
        "#### Standardize the features"
      ],
      "metadata": {
        "id": "zqdqcXjpyAaM"
      }
    },
    {
      "cell_type": "code",
      "source": [
        "scaler = StandardScaler()\n",
        "X_train_scaled = scaler.fit_transform(X_train)\n",
        "X_test_scaled = scaler.transform(X_test)"
      ],
      "metadata": {
        "id": "gZ25-gqMwmbh"
      },
      "execution_count": null,
      "outputs": []
    },
    {
      "cell_type": "markdown",
      "source": [
        "#### Evaluate models and store the results"
      ],
      "metadata": {
        "id": "T8Jv9AcgyGog"
      }
    },
    {
      "cell_type": "code",
      "source": [
        "results = {}\n",
        "\n",
        "def evaluate_model(model, name):\n",
        "    model.fit(X_train_scaled, y_train)\n",
        "    y_pred = model.predict(X_test_scaled)\n",
        "    accuracy = accuracy_score(y_test, y_pred)\n",
        "    results[name] = accuracy\n",
        "    print(f\"\\n{name} Accuracy: {accuracy * 100:.2f}%\")\n",
        "    print(\"Confusion Matrix:\\n\", confusion_matrix(y_test, y_pred))\n",
        "    print(\"Classification Report:\\n\", classification_report(y_test, y_pred))"
      ],
      "metadata": {
        "id": "j8vJYY1CwqIb"
      },
      "execution_count": null,
      "outputs": []
    },
    {
      "cell_type": "markdown",
      "source": [
        "#### Comparing different algorithms"
      ],
      "metadata": {
        "id": "EveJY3NWyOVI"
      }
    },
    {
      "cell_type": "code",
      "source": [
        "svm_model = SVC(random_state=42)\n",
        "evaluate_model(svm_model, 'SVM')"
      ],
      "metadata": {
        "colab": {
          "base_uri": "https://localhost:8080/"
        },
        "id": "vHibhhdrw3Y8",
        "outputId": "8a9e2695-4c25-4a78-dbe5-a2ca214efd7d"
      },
      "execution_count": null,
      "outputs": [
        {
          "output_type": "stream",
          "name": "stdout",
          "text": [
            "\n",
            "SVM Accuracy: 94.37%\n",
            "Confusion Matrix:\n",
            " [[24  4]\n",
            " [ 0 43]]\n",
            "Classification Report:\n",
            "               precision    recall  f1-score   support\n",
            "\n",
            "           b       1.00      0.86      0.92        28\n",
            "           g       0.91      1.00      0.96        43\n",
            "\n",
            "    accuracy                           0.94        71\n",
            "   macro avg       0.96      0.93      0.94        71\n",
            "weighted avg       0.95      0.94      0.94        71\n",
            "\n"
          ]
        }
      ]
    },
    {
      "cell_type": "code",
      "source": [
        "nb_model = GaussianNB()\n",
        "evaluate_model(nb_model, 'Naive Bayes')"
      ],
      "metadata": {
        "colab": {
          "base_uri": "https://localhost:8080/"
        },
        "id": "U_jnGAQPw7SE",
        "outputId": "957e1804-feb3-48fa-b67c-7be10df6cf30"
      },
      "execution_count": null,
      "outputs": [
        {
          "output_type": "stream",
          "name": "stdout",
          "text": [
            "\n",
            "Naive Bayes Accuracy: 88.73%\n",
            "Confusion Matrix:\n",
            " [[20  8]\n",
            " [ 0 43]]\n",
            "Classification Report:\n",
            "               precision    recall  f1-score   support\n",
            "\n",
            "           b       1.00      0.71      0.83        28\n",
            "           g       0.84      1.00      0.91        43\n",
            "\n",
            "    accuracy                           0.89        71\n",
            "   macro avg       0.92      0.86      0.87        71\n",
            "weighted avg       0.90      0.89      0.88        71\n",
            "\n"
          ]
        }
      ]
    },
    {
      "cell_type": "code",
      "source": [
        "knn_model = KNeighborsClassifier()\n",
        "evaluate_model(knn_model, 'KNN')\n"
      ],
      "metadata": {
        "colab": {
          "base_uri": "https://localhost:8080/"
        },
        "id": "QX45UlVnw8hi",
        "outputId": "eb2f228a-a2e1-498f-f410-7494f6a4fe06"
      },
      "execution_count": null,
      "outputs": [
        {
          "output_type": "stream",
          "name": "stdout",
          "text": [
            "\n",
            "KNN Accuracy: 84.51%\n",
            "Confusion Matrix:\n",
            " [[17 11]\n",
            " [ 0 43]]\n",
            "Classification Report:\n",
            "               precision    recall  f1-score   support\n",
            "\n",
            "           b       1.00      0.61      0.76        28\n",
            "           g       0.80      1.00      0.89        43\n",
            "\n",
            "    accuracy                           0.85        71\n",
            "   macro avg       0.90      0.80      0.82        71\n",
            "weighted avg       0.88      0.85      0.83        71\n",
            "\n"
          ]
        }
      ]
    },
    {
      "cell_type": "code",
      "source": [
        "dt_model = DecisionTreeClassifier(random_state=42)\n",
        "evaluate_model(dt_model, 'Decision Tree')"
      ],
      "metadata": {
        "colab": {
          "base_uri": "https://localhost:8080/"
        },
        "id": "6B36Y1XEw9zl",
        "outputId": "c134b353-7b3a-4584-e2ad-f9622db1934a"
      },
      "execution_count": null,
      "outputs": [
        {
          "output_type": "stream",
          "name": "stdout",
          "text": [
            "\n",
            "Decision Tree Accuracy: 88.73%\n",
            "Confusion Matrix:\n",
            " [[21  7]\n",
            " [ 1 42]]\n",
            "Classification Report:\n",
            "               precision    recall  f1-score   support\n",
            "\n",
            "           b       0.95      0.75      0.84        28\n",
            "           g       0.86      0.98      0.91        43\n",
            "\n",
            "    accuracy                           0.89        71\n",
            "   macro avg       0.91      0.86      0.88        71\n",
            "weighted avg       0.90      0.89      0.88        71\n",
            "\n"
          ]
        }
      ]
    },
    {
      "cell_type": "code",
      "source": [
        "lr_model = LogisticRegression(random_state=42)\n",
        "evaluate_model(lr_model, 'Logistic Regression')"
      ],
      "metadata": {
        "colab": {
          "base_uri": "https://localhost:8080/"
        },
        "id": "8ztu0VWCw-3x",
        "outputId": "f7b82682-a171-4ce7-c28a-917d1d310dd8"
      },
      "execution_count": null,
      "outputs": [
        {
          "output_type": "stream",
          "name": "stdout",
          "text": [
            "\n",
            "Logistic Regression Accuracy: 85.92%\n",
            "Confusion Matrix:\n",
            " [[18 10]\n",
            " [ 0 43]]\n",
            "Classification Report:\n",
            "               precision    recall  f1-score   support\n",
            "\n",
            "           b       1.00      0.64      0.78        28\n",
            "           g       0.81      1.00      0.90        43\n",
            "\n",
            "    accuracy                           0.86        71\n",
            "   macro avg       0.91      0.82      0.84        71\n",
            "weighted avg       0.89      0.86      0.85        71\n",
            "\n"
          ]
        }
      ]
    },
    {
      "cell_type": "code",
      "source": [
        "ann_model = MLPClassifier(random_state=42)\n",
        "evaluate_model(ann_model, 'Artificial Neural Network')"
      ],
      "metadata": {
        "colab": {
          "base_uri": "https://localhost:8080/"
        },
        "id": "fjH16GbwxACv",
        "outputId": "4e2ef258-8726-4010-a3af-60995f7135dd"
      },
      "execution_count": null,
      "outputs": [
        {
          "output_type": "stream",
          "name": "stdout",
          "text": [
            "\n",
            "Artificial Neural Network Accuracy: 90.14%\n",
            "Confusion Matrix:\n",
            " [[21  7]\n",
            " [ 0 43]]\n",
            "Classification Report:\n",
            "               precision    recall  f1-score   support\n",
            "\n",
            "           b       1.00      0.75      0.86        28\n",
            "           g       0.86      1.00      0.92        43\n",
            "\n",
            "    accuracy                           0.90        71\n",
            "   macro avg       0.93      0.88      0.89        71\n",
            "weighted avg       0.92      0.90      0.90        71\n",
            "\n"
          ]
        },
        {
          "output_type": "stream",
          "name": "stderr",
          "text": [
            "/usr/local/lib/python3.10/dist-packages/sklearn/neural_network/_multilayer_perceptron.py:686: ConvergenceWarning: Stochastic Optimizer: Maximum iterations (200) reached and the optimization hasn't converged yet.\n",
            "  warnings.warn(\n"
          ]
        }
      ]
    },
    {
      "cell_type": "markdown",
      "source": [
        "#### Displaying overall results"
      ],
      "metadata": {
        "id": "KQVtPSspyTCo"
      }
    },
    {
      "cell_type": "code",
      "source": [
        "print(\"\\nOverall Results:\")\n",
        "for model, accuracy in results.items():\n",
        "    print(f\"{model}: {accuracy * 100:.2f}%\")"
      ],
      "metadata": {
        "colab": {
          "base_uri": "https://localhost:8080/"
        },
        "id": "wgOKYUCUxOs6",
        "outputId": "94856509-f4e2-487a-d11e-8f376e59bf97"
      },
      "execution_count": null,
      "outputs": [
        {
          "output_type": "stream",
          "name": "stdout",
          "text": [
            "\n",
            "Overall Results:\n",
            "SVM: 94.37%\n",
            "Naive Bayes: 88.73%\n",
            "KNN: 84.51%\n",
            "Decision Tree: 88.73%\n",
            "Logistic Regression: 85.92%\n",
            "Artificial Neural Network: 90.14%\n"
          ]
        }
      ]
    },
    {
      "cell_type": "markdown",
      "source": [
        "**Conclusion**\n",
        "\n",
        "Finally after doing Data cleaning and Data Preprocessing (cleaning data, train_test_split model and machine learning model) we got the accuracy scores and we can say that SVM Classification gives the best accuracy among all machine learning models."
      ],
      "metadata": {
        "id": "GtHsTZblydEB"
      }
    }
  ]
}